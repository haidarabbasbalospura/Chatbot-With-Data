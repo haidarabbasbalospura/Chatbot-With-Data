{
  "cells": [
    {
      "cell_type": "markdown",
      "metadata": {
        "id": "cIpHbuJaZaFF"
      },
      "source": [
        "# Chatbot with Website/YouTube Video\n",
        "This guide will walk you through creating a Question-Answering system for Website/YT Video documents using Retrieval-Augmented Generation (RAG) with Langchain and Pinecone."
      ]
    },
    {
      "cell_type": "markdown",
      "metadata": {
        "id": "9E8hI_p4D_OT"
      },
      "source": [
        "### Installing Dependencies"
      ]
    },
    {
      "cell_type": "code",
      "execution_count": 1,
      "metadata": {
        "colab": {
          "base_uri": "https://localhost:8080/"
        },
        "id": "NL2mjFUDDJOg",
        "outputId": "d7bb6dbd-43e2-4a94-b5a8-b73d81294cb7"
      },
      "outputs": [],
      "source": [
        "%pip install -qU langchain-community langchain langchain-openai requests chromadb beautifulsoup4 langchain-google-genai"
      ]
    },
    {
      "cell_type": "markdown",
      "metadata": {
        "id": "EQvnv-65EHnD"
      },
      "source": [
        "### Storing API keys"
      ]
    },
    {
      "cell_type": "markdown",
      "metadata": {
        "id": "elq0lB-KZfZ4"
      },
      "source": [
        "- Get OpenAI API key: https://platform.openai.com/account/api-keys"
      ]
    },
    {
      "cell_type": "code",
      "execution_count": 2,
      "metadata": {
        "id": "x1_dkxdWkm4a"
      },
      "outputs": [],
      "source": [
        "import os\n",
        "\n",
        "os.environ[\"OPENAI_API_KEY\"] = \"\"\n",
        "os.environ[\"GOOGLE_API_KEY\"] = \"\""
      ]
    },
    {
      "cell_type": "markdown",
      "metadata": {
        "id": "AOV3jZolLeOo"
      },
      "source": [
        "## Chat with Website Using ChromaDB\n"
      ]
    },
    {
      "cell_type": "markdown",
      "metadata": {
        "id": "MtnhSnxsMPYW"
      },
      "source": [
        "### Import Required Libraries"
      ]
    },
    {
      "cell_type": "code",
      "execution_count": 3,
      "metadata": {
        "colab": {
          "base_uri": "https://localhost:8080/"
        },
        "id": "jAFvzqyFfEgo",
        "outputId": "8e966c2f-19b0-4310-cfad-fdd3549c86aa"
      },
      "outputs": [
        {
          "name": "stderr",
          "output_type": "stream",
          "text": [
            "USER_AGENT environment variable not set, consider setting it to identify your requests.\n"
          ]
        }
      ],
      "source": [
        "from langchain_community.vectorstores import Chroma\n",
        "from langchain_google_genai import GoogleGenerativeAIEmbeddings, ChatGoogleGenerativeAI\n",
        "from langchain_openai import OpenAIEmbeddings, ChatOpenAI\n",
        "from langchain_community.document_loaders import WebBaseLoader\n",
        "from langchain_text_splitters import RecursiveCharacterTextSplitter\n",
        "from langchain.chains import ConversationalRetrievalChain\n",
        "from langchain.memory import ConversationBufferMemory"
      ]
    },
    {
      "cell_type": "markdown",
      "metadata": {
        "id": "BjFlql1LLp55"
      },
      "source": [
        "### Load Website Content"
      ]
    },
    {
      "cell_type": "code",
      "execution_count": 4,
      "metadata": {
        "id": "z0u8J58xLsGB"
      },
      "outputs": [],
      "source": [
        "def load_website(url):\n",
        "    loader = WebBaseLoader(url)\n",
        "    data = loader.load()\n",
        "    return data\n",
        "\n",
        "# Example usage\n",
        "url = \"https://www.buildfastwithai.com/\"  # Replace with your target website\n",
        "website_data = load_website(url)"
      ]
    },
    {
      "cell_type": "code",
      "execution_count": 5,
      "metadata": {
        "colab": {
          "base_uri": "https://localhost:8080/"
        },
        "id": "8xMFN4D4L0Kq",
        "outputId": "763bd892-6211-4a42-d911-4a8451f3adc1"
      },
      "outputs": [
        {
          "data": {
            "text/plain": [
              "[Document(metadata={'source': 'https://www.buildfastwithai.com/', 'title': 'Build Fast with AI', 'description': 'Build Fast with AI - a vibrant community of AI builders, innovators, and enthusiasts. Whether you are an entrepreneur, a product manager, a developer, or anyone intrigued by AI, this is your platform to learn, grow, and innovate.', 'language': 'en'}, page_content=\"Build Fast with AIAsk toBuildFast BotHey! Wanna know about Generative AI Crash Course?What will I learn?How can I join?What's the course duration?What's the course fee?What's the course syllabus?Sendsatvik@buildfastwithai.comKoramangala, Bengaluru, 560034SupportConsultingGenAI CourseApp ShowcaseCompanyResourcesEventsLegalPrivacyTermsRefundOur ProductsEduchainAI-powered education platform for teachersApp ShowcaseThe Indian version of CharacterAI but even more varieties.LinkedInInstagramTwitterGitHub¬© 2025 Intellify Edventures Private Limited All rights reserved.GenAI 2025 Launch PadTransform AI Ideas into RealityJoin 15,000+ professionals mastering practical AI development at Build Fast with AILearn. Build. Deploy.Begin Your AI JourneyJoin WaitlistWho We AreAccelerate Your AI Journey with UsBuild Fast with AI helps professionals and businesses rapidly implement Gen AI through practical, hands-on education and consulting. Founded by IIT Delhi alumni, we've trained 15,000+ professionals from Google, Amazon, BCG, McKinsey and more.Corporate TrainingBuild In-House AI CapabilitiesAI ConsultingTransform Your Business with AINEW!Generative AI Launch Pad 2025\\uf8ffüöÄReady to become a Generative AI developer? Join our intensive bootcamp where you'll learn to build and deploy cutting-edge AI applications. From LLMs to RAG, from prototypes to production - we've got you covered.15000+Learners Trained15+Projects$250AI CreditsJoin WaitlistView CurriculumYour Instructor: Satvik ParamkushamAI Developer & Consultant ‚Ä¢ IIT Delhi Alumni ‚Ä¢ Built 50+ AI ApplicationsAI AcceleratorsSignature Events ShowcasePrevious slideNext slideGoogle's : Build with Gen AI WorkshopMay 2024Developers explored cutting-edge AI tools, got hands-on with Gemini models, and networked with industry innovators at Google's Bangalore office.AI Meets ProductJune 2024PMs explored how AI reshaped product development, discussed evolving roles, and connected with Bangalore's tech elite in this insightful meetup.2024 GenAI Half Yearly RewindJuly 2024Attendees unpacked the year's groundbreaking AI developments, gained insights from AI pioneers, and learned practical applications across various fields.The Product Game ChangerAugust 2024PMs explored AI's impact on product management, discussed transforming PM functions, demystified AI concepts, analyzed AI-driven strategies, & identified future-ready PM skills in this innovative Bangalore coffee meetup.Build Fast with AI x Mesa School of BusinessAugust 2024Mesa Business Students participated in a 12 hour Gen AI to create 5-minute movies from scratch, completely using Gen AI tools! No coding, just creativity and AI magic! \\uf8ffüé•‚ú®Our Learners Work at World-Class CompaniesWorkshops0+Professionals Trained0+Projects Per Cohort0+Companies Trust Us0+Upcoming Events ‚≠êLearn how to grow your business with our expert advice.All Events Are You Ready for Gen AI in 2025? | Course Preview & Launch OfferThu, 23 Jan, 9:00 pm2025 is going to be a big year for AI - are you ready for it?All Events Free ResourcesPrevious slideNext slideAre you Ready for GenAI in 2025?Introducing the Generative AI Launchpad, a course designed for beginners to learn the core concepts of generative AI and build applications. Satvik emphasized the importance of generative AI in the job market and its potential to increase productivity, and introduced a 6-module course that covers various aspects of generative AI.FreeMaster Automation with AIDiscover how to leverage AI for professional growth in this hands-on workshop. Learn to supercharge your lead generation on LinkedIn, amplify your personal brand across social media, and create engaging content using AI tools.FreeElevate Your Resume with AIEmpower your job search and career growth with cutting-edge AI technologies. This hands-on workshop offers:\\n\\nAI-Enhanced Resume Crafting\\n\\nLeverage AI to showcase your unique skills and experiences\\nPractice with AI-powered resume analysis tools\\n\\nBuild Your Personal AI Career Assistant\\n\\nCreate a custom AI application for resume review\\nDevelop an AI-powered interview preparation tool\\nTailor your AI assistant to your specific career goals\\n\\nMaster ATS-Friendly Resumes\\n\\nOptimize your resume for maximum visibility using AI techniquesFreeCoding with CursorDiscover the power of AI-assisted coding with Cursor in this hands-on workshop led by mentor Satvik. Learn how to leverage Cursor's innovative features, including the new Composer, to build functional applications‚Äîeven if you have no prior coding experience!FreeCreate Your Own AI AvatarThis hands-on workshop will guide you through the process of using cutting-edge Generative AI technologies to transform their own faces into superhero avatars. Attendees will learn about the latest state-of-the-art AI image generation tools, get tips for capturing the perfect selfie as a base, and follow a step-by-step guide to turning their face into their favorite superhero character. The session will cover adjusting features, costumes, and backgrounds, as well as advanced techniques for achieving hyper-realism and incorporating iconic superhero elements.FreeGen AI for ExcelThis hands-on workshop explores the integration of Artificial Intelligence (AI) with Excel, focusing on enhancing productivity and data analysis capabilities. Participants will learn to leverage generative AI tools to automate tasks, create complex formulas, and gain deeper insights from their data.\\nLearning Objectives\\n\\nBy the end of this course, participants will be able to:\\n\\n- Generate complex Excel formulas using AI\\n- Automate repetitive tasks in Excel with AI assistance\\n- Utilize AI for advanced data analysis and visualization\\n- Implement custom GPTs designed for Excel applicationsFreeBrowse ResourcesApp ShowcaseGita GPTTalk to ZoyaChat with PDFYT Videos BotCharacter AIGPT Data AnalystInterview BotTestimonialsDon't just take our words for it.Here's what our learners have to say.Adit ParekhProduct Strategy, FreshworksSatvik is a patient, conscientious and well intentioned teacher who is adept and up to date on innovations occurring in the GenAI space. What make him stand out is that he goes out of his way to assist students in answering their queries Ina no outside class at the expense of his spare time. I would highly recommend people to learn from him as he has a good grip on the fundamentals along with the continual changing landscape of AI.Show moreNihal KashinathFounder and CEO, Deeptech StarsAs a non-technical co-founder I had taken this course in the 1st cohort and it was very good, gave a comprehensive overview of all the important aspects of GenAI and we also got hands-on. I liked it so much that our CTO joined the second cohort and he also found it very useful. So would highly recommend this course!Show moreSahil JainProject Manager, Commonwealth Bank of AustraliaI was in the third cohort. Great course to start your journey into GenAI. Currently playing the role of Agility Coach in Commonwealth Bank but this course is for anyone who wants to learn more about GenAI and figure out how it can help in your role and make your life easy. I really feel confident now to atleast talk about GenAI to anyone. I highly recommend this course and thanks Satvik for explaining the concepts in a very easy way.Show moreVishesh KumarSenior Director of Engineering, Viacom18After experiencing the course firsthand, I can confidently affirm that every moment spent during the course was excellent. It is a easy way to start exploring Generative AI.Show moreAbhishek GopalkaManaging Director, BCGThe Crash Course on Generative AI is a well-designed program that combines theory and practice. The hands-on projects provided valuable insights into the potential applications of AI across industries. Highly recommended for professionals looking to stay ahead of the curve.Show moreAmrinder RandhawaNetwork Engineer, GoogleThe course covered a wide range of topics, from basics to advanced concepts like fine-tuning models. The live coding sessions and assignments helped solidify my understanding. It has inspired me to explore the potential of Generative AI in network technologies and security.Show moreAashray AgurProduct Head, CommvaultThis course demystified AI jargon and provided a clear roadmap for integrating Generative AI into products. The hands-on projects, especially the chatbot and PDF interaction modules, were valuable in understanding the practical challenges of AI implementation. It has empowered me to have informed conversations with my team about leveraging AI.Show moreArti KalroProfessor, IIT BombayThe course curriculum covers a wide range of topics, from AI history to its latest advancements. The hands-on projects were educational and creative. As an educator, I appreciate the emphasis on ethical considerations and responsible AI development. A valuable resource for students, researchers, and professionals.Show moreAnirudh VorugantiEngineer, AmazonThe Crash Course on Generative AI provided a solid foundation for understanding and implementing AI techniques. The instructor's clear explanations and practical examples made complex concepts easy to grasp. The course has equipped me with the skills to develop AI-powered solutions in my work at Amazon.Show moreDilip SahCTO, Decimal Point AnalyticsAs a CTO, I found this course invaluable in understanding the strategic implications of Generative AI for our business. The course provided a comprehensive overview of the AI landscape and its potential applications. The hands-on projects gave me a practical understanding of how to integrate AI into our products and services. I highly recommend this course to any tech leader looking to harness the power of Generative AI.Show moreReady to Begin Your AI Journey?Register now and upgrade your skills with our AI courses & events.Register NowGenAI BootcampDaily GenAI QuizApp ShowcaseEventsMore Sign InSign In\")]"
            ]
          },
          "execution_count": 5,
          "metadata": {},
          "output_type": "execute_result"
        }
      ],
      "source": [
        "website_data"
      ]
    },
    {
      "cell_type": "markdown",
      "metadata": {
        "id": "fpy5pNbaL36b"
      },
      "source": [
        "### Split Content into Chunks"
      ]
    },
    {
      "cell_type": "code",
      "execution_count": 8,
      "metadata": {
        "id": "jS0rB4ouL3Yj"
      },
      "outputs": [],
      "source": [
        "text_splitter = RecursiveCharacterTextSplitter(chunk_size=1000, chunk_overlap=200)\n",
        "splits = text_splitter.split_documents(website_data)"
      ]
    },
    {
      "cell_type": "code",
      "execution_count": 9,
      "metadata": {
        "colab": {
          "base_uri": "https://localhost:8080/"
        },
        "id": "iQ-4MLpmZfZ-",
        "outputId": "89da9d0c-b4bc-406c-d5fa-dfc36439291c"
      },
      "outputs": [
        {
          "data": {
            "text/plain": [
              "17"
            ]
          },
          "execution_count": 9,
          "metadata": {},
          "output_type": "execute_result"
        }
      ],
      "source": [
        "len(splits)"
      ]
    },
    {
      "cell_type": "markdown",
      "metadata": {
        "id": "6HF4ye1lL8fD"
      },
      "source": [
        "### Initialize Embeddings and Chroma Vector Store"
      ]
    },
    {
      "cell_type": "markdown",
      "metadata": {},
      "source": [
        "##### Using OpenAI embeddings"
      ]
    },
    {
      "cell_type": "code",
      "execution_count": null,
      "metadata": {},
      "outputs": [],
      "source": [
        "openai_embeddings = OpenAIEmbeddings(model=\"text-embedding-3-small\")\n",
        "\n",
        "# Create a Chroma vector store\n",
        "vectorstore = Chroma.from_documents(splits, openai_embeddings)"
      ]
    },
    {
      "cell_type": "markdown",
      "metadata": {},
      "source": [
        "##### Using GeminiAI embeddings"
      ]
    },
    {
      "cell_type": "code",
      "execution_count": 10,
      "metadata": {
        "id": "-IW_WCKiL_dF"
      },
      "outputs": [],
      "source": [
        "gemini_embeddings = GoogleGenerativeAIEmbeddings(model=\"models/embedding-001\")\n",
        "\n",
        "# Create a Chroma vector store\n",
        "vectorstore = Chroma.from_documents(splits, gemini_embeddings)"
      ]
    },
    {
      "cell_type": "markdown",
      "metadata": {
        "id": "Qz2_CxAJMYyo"
      },
      "source": [
        "### Set Up Conversational Retrieval Chain"
      ]
    },
    {
      "cell_type": "markdown",
      "metadata": {},
      "source": [
        "##### Using OpenAI model"
      ]
    },
    {
      "cell_type": "code",
      "execution_count": 11,
      "metadata": {},
      "outputs": [
        {
          "name": "stderr",
          "output_type": "stream",
          "text": [
            "C:\\Users\\haida\\AppData\\Local\\Temp\\ipykernel_24112\\3162655233.py:6: LangChainDeprecationWarning: Please see the migration guide at: https://python.langchain.com/docs/versions/migrating_memory/\n",
            "  memory = ConversationBufferMemory(memory_key=\"chat_history\", return_messages=True)\n"
          ]
        }
      ],
      "source": [
        "llm = ChatOpenAI(model=\"gpt-4o\", temperature=0.7)\n",
        "\n",
        "qa = ConversationalRetrievalChain.from_llm(\n",
        "    llm=llm,\n",
        "    retriever=vectorstore.as_retriever(),\n",
        "    memory = ConversationBufferMemory(memory_key=\"chat_history\", return_messages=True)\n",
        "\n",
        ")"
      ]
    },
    {
      "cell_type": "markdown",
      "metadata": {},
      "source": [
        "##### Using GeminiAI Models"
      ]
    },
    {
      "cell_type": "code",
      "execution_count": 16,
      "metadata": {
        "colab": {
          "base_uri": "https://localhost:8080/"
        },
        "id": "gXDTAXW0Mdco",
        "outputId": "8c57bf33-2282-4634-984f-4bd2f46d0c7a"
      },
      "outputs": [
        {
          "data": {
            "text/plain": [
              "ConversationalRetrievalChain(memory=ConversationBufferMemory(chat_memory=InMemoryChatMessageHistory(messages=[]), return_messages=True, memory_key='chat_history'), verbose=False, combine_docs_chain=StuffDocumentsChain(verbose=False, llm_chain=LLMChain(verbose=False, prompt=ChatPromptTemplate(input_variables=['context', 'question'], input_types={}, partial_variables={}, messages=[SystemMessagePromptTemplate(prompt=PromptTemplate(input_variables=['context'], input_types={}, partial_variables={}, template=\"Use the following pieces of context to answer the user's question. \\nIf you don't know the answer, just say that you don't know, don't try to make up an answer.\\n----------------\\n{context}\"), additional_kwargs={}), HumanMessagePromptTemplate(prompt=PromptTemplate(input_variables=['question'], input_types={}, partial_variables={}, template='{question}'), additional_kwargs={})]), llm=ChatGoogleGenerativeAI(model='models/gemini-1.5-flash', google_api_key=SecretStr('**********'), client=<google.ai.generativelanguage_v1beta.services.generative_service.client.GenerativeServiceClient object at 0x00000245C47EBF50>, default_metadata=()), output_parser=StrOutputParser(), llm_kwargs={}), document_prompt=PromptTemplate(input_variables=['page_content'], input_types={}, partial_variables={}, template='{page_content}'), document_variable_name='context'), question_generator=LLMChain(verbose=False, prompt=PromptTemplate(input_variables=['chat_history', 'question'], input_types={}, partial_variables={}, template='Given the following conversation and a follow up question, rephrase the follow up question to be a standalone question, in its original language.\\n\\nChat History:\\n{chat_history}\\nFollow Up Input: {question}\\nStandalone question:'), llm=ChatGoogleGenerativeAI(model='models/gemini-1.5-flash', google_api_key=SecretStr('**********'), client=<google.ai.generativelanguage_v1beta.services.generative_service.client.GenerativeServiceClient object at 0x00000245C47EBF50>, default_metadata=()), output_parser=StrOutputParser(), llm_kwargs={}), retriever=VectorStoreRetriever(tags=['Chroma', 'GoogleGenerativeAIEmbeddings'], vectorstore=<langchain_community.vectorstores.chroma.Chroma object at 0x00000245A7AC1B20>, search_kwargs={}))"
            ]
          },
          "execution_count": 16,
          "metadata": {},
          "output_type": "execute_result"
        }
      ],
      "source": [
        "llm = ChatGoogleGenerativeAI(model=\"gemini-1.5-flash\", temperature=0.7)\n",
        "\n",
        "qa = ConversationalRetrievalChain.from_llm(\n",
        "    llm=llm,\n",
        "    retriever=vectorstore.as_retriever(),\n",
        "    memory = ConversationBufferMemory(memory_key=\"chat_history\", return_messages=True)\n",
        "\n",
        ")\n",
        "qa"
      ]
    },
    {
      "cell_type": "code",
      "execution_count": 19,
      "metadata": {},
      "outputs": [
        {
          "data": {
            "text/plain": [
              "{'question': 'Hey can you tello the main theme of this website?',\n",
              " 'chat_history': [HumanMessage(content='Hey can you tello the main theme of this website?', additional_kwargs={}, response_metadata={}),\n",
              "  AIMessage(content='The main theme of the website is providing education and consulting services related to Generative AI (GenAI).  They offer courses, bootcamps, and other resources to help professionals and businesses learn and implement GenAI.', additional_kwargs={}, response_metadata={}),\n",
              "  HumanMessage(content='Hey can you tello the main theme of this website?', additional_kwargs={}, response_metadata={}),\n",
              "  AIMessage(content=\"Based on the provided text, the main theme appears to be using AI to enhance career prospects, specifically focusing on resume building, interview preparation, and leveraging AI tools for professional development.  There's also mention of an unrelated workshop on using AI with Excel, but the career focus seems to be the primary theme.\", additional_kwargs={}, response_metadata={}),\n",
              "  HumanMessage(content='Hey can you tello the main theme of this website?', additional_kwargs={}, response_metadata={}),\n",
              "  AIMessage(content=\"Based on the provided text, the main theme appears to be using AI to enhance career prospects, specifically focusing on resume building, interview preparation, and leveraging AI tools for career assistance.  There's also mention of an unrelated workshop on using AI with Excel.\", additional_kwargs={}, response_metadata={})],\n",
              " 'answer': \"Based on the provided text, the main theme appears to be using AI to enhance career prospects, specifically focusing on resume building, interview preparation, and leveraging AI tools for career assistance.  There's also mention of an unrelated workshop on using AI with Excel.\"}"
            ]
          },
          "execution_count": 19,
          "metadata": {},
          "output_type": "execute_result"
        }
      ],
      "source": [
        "result = qa(\"Hey can you tello the main theme of this website?\")\n",
        "result"
      ]
    },
    {
      "cell_type": "markdown",
      "metadata": {
        "id": "YGfmcvGQMvta"
      },
      "source": [
        "### Chat Function"
      ]
    },
    {
      "cell_type": "code",
      "execution_count": 54,
      "metadata": {
        "colab": {
          "base_uri": "https://localhost:8080/"
        },
        "id": "4sS6R5jbMx0K",
        "outputId": "1179bbca-c9c1-4df3-fc4d-399541b82e9e"
      },
      "outputs": [
        {
          "name": "stdout",
          "output_type": "stream",
          "text": [
            "Human: What is the main topic of this website?\n",
            "AI: Based on the provided text, there are several topics mentioned, making it difficult to identify one main topic.  The text includes a podcast about expressing feelings (sadness, anger, nervousness), AI-enhanced resume crafting, building a personal AI career assistant, and mastering ATS-friendly resumes.\n"
          ]
        }
      ],
      "source": [
        "def chat_with_website(query):\n",
        "    result = qa({\"question\": query})\n",
        "    return result['answer']\n",
        "\n",
        "# Example usage\n",
        "query = \"What is the main topic of this website?\"\n",
        "response = chat_with_website(query)\n",
        "print(f\"Human: {query}\")\n",
        "print(f\"AI: {response}\")"
      ]
    },
    {
      "cell_type": "code",
      "execution_count": 53,
      "metadata": {
        "colab": {
          "base_uri": "https://localhost:8080/"
        },
        "id": "1p0xIv0RZfZ_",
        "outputId": "c1ded7a5-5370-4230-d81b-883e95e33dc7"
      },
      "outputs": [
        {
          "name": "stdout",
          "output_type": "stream",
          "text": [
            "Human: Tell me about the Generative AI Bootcamp\n",
            "AI: I am sorry, but I don't have enough information to answer your question.  While the provided text mentions a \"GenAI Bootcamp,\" it does not describe its content or structure.\n"
          ]
        }
      ],
      "source": [
        "# Example usage\n",
        "query = \"Tell me about the Generative AI Bootcamp\"\n",
        "response = chat_with_website(query)\n",
        "print(f\"Human: {query}\")\n",
        "print(f\"AI: {response}\")"
      ]
    },
    {
      "cell_type": "markdown",
      "metadata": {
        "id": "kdw9Q5lsNm3Z"
      },
      "source": [
        "## Chat with YouTube Video Using ChromaDB"
      ]
    },
    {
      "cell_type": "markdown",
      "metadata": {
        "id": "qvf3PErSNyl8"
      },
      "source": [
        "### Install the required dependencies:"
      ]
    },
    {
      "cell_type": "code",
      "execution_count": 29,
      "metadata": {
        "id": "NxIQar_0NsVj"
      },
      "outputs": [
        {
          "name": "stdout",
          "output_type": "stream",
          "text": [
            "Note: you may need to restart the kernel to use updated packages.\n"
          ]
        }
      ],
      "source": [
        "%pip install -qU langchain-community langchain langchain-openai requests chromadb youtube_transcript_api pytube"
      ]
    },
    {
      "cell_type": "markdown",
      "metadata": {
        "id": "7S5pKUk0N2PL"
      },
      "source": [
        "### Import Required Libraries"
      ]
    },
    {
      "cell_type": "code",
      "execution_count": 30,
      "metadata": {
        "id": "32wLDeKCN5GF"
      },
      "outputs": [],
      "source": [
        "from langchain_community.vectorstores import Chroma\n",
        "from langchain_openai import OpenAIEmbeddings, ChatOpenAI\n",
        "from langchain_google_genai import GoogleGenerativeAIEmbeddings, ChatGoogleGenerativeAI\n",
        "from langchain_community.document_loaders import YoutubeLoader, WebBaseLoader\n",
        "from langchain_text_splitters import RecursiveCharacterTextSplitter\n",
        "from langchain.chains import ConversationalRetrievalChain\n",
        "from langchain.memory import ConversationBufferMemory"
      ]
    },
    {
      "cell_type": "markdown",
      "metadata": {
        "id": "JhelKkklN898"
      },
      "source": [
        "### Load Video Transcript"
      ]
    },
    {
      "cell_type": "code",
      "execution_count": 31,
      "metadata": {
        "id": "8GVm7XWlN-Nl"
      },
      "outputs": [],
      "source": [
        "def load_video_transcript(video_url):\n",
        "    loader = YoutubeLoader.from_youtube_url(\n",
        "        video_url,\n",
        "    )\n",
        "    data = loader.load()\n",
        "    return data\n",
        "\n",
        "# Example usage\n",
        "video_url = \"https://youtu.be/Bx7I06w6vVA?si=BsiZuoo2_NH7vZzM\"  # Replace with your target video\n",
        "video_data = load_video_transcript(video_url)"
      ]
    },
    {
      "cell_type": "code",
      "execution_count": 32,
      "metadata": {
        "id": "3r5z4V7kOqkb"
      },
      "outputs": [
        {
          "data": {
            "text/plain": [
              "[Document(metadata={'source': 'Bx7I06w6vVA'}, page_content=\"just yesterday Chachi PT launched a brand new pretty incredible feature called canvas this feature feels akin to cla's artifacts and it could do a whole bunch of stuff so that's what we're going to go over today the way to think about canvas is a new way to collaborate with chat GPT you type a prompt and instead of it just being in one single chat it opens up this separate window where you can ask chat gbt to edit certain parts of text or code you can ask it to update you can ask it to add comes a whole bunch of cool stuff so I'm briefly going to tell you about it then we're just going to play around with it so everybody already has access to chat GPT with canvas and what I really like about it is the fact that they didn't say it's coming soon they just released it the day that they announced it so if you click in the drop down here it is GPT 40 with canvas beta and they said for now everybody with a pro or Enterprise account will get access to it and then as soon as it leaves beta every free user will also get access to it there are two main use cases that canvas looks to help with writing and coding and obviously I definitely want want to test out the coding aspects which we will do right after this one thing I found really interesting is they actually trained GPT 40 to collaborate so this is not just the base GPT 40 model with some code wrapper around it this is actually a different version of GPT 40 that recognizes when it should use canvas so for writing it includes suggesting edits adjusting the length changing the reading level adding final polish and adding emojis for coding it reviews code it can add logs add comments fix bugs and port to a different language which is pretty cool and as I mentioned GPT 40 was trained to use canvas so to do that they developed these core behaviors triggering the canvas for writing and coding so that's obviously just getting it going generating diverse content types making targeted edits which is super interesting so rather than redoing the entire output every time you can actually just select a certain piece of the content and it will update that only all right so now I just want to test it out and show you what it's like to use it but before I do that I actually want to speak to something that I think a lot of companies that are built on chat GPT should be nervous about now open aai as a company has always described itself as a platform company they are going to give other developers the tools that they need to build amazing AI applications but if I'm an AI company and I'm seeing this I would be a little bit nervous and this feels very analogous to what I went through at my previous company so at my previous company we built a lot of our infrastructure on top of a company called twilio twilio provides telepan servic and they were truly a platform company all they did was provide an API until they didn't and we built an entire suest software on top of twilio using SMS and phone calls and other things and then one day twilio started competing with us they started building on top of their own platform and so if you've watched this Channel at all you know I've talked about platform risk in the past if you build your entire business on top of somebody else's API you are at platform risk if they decide to change their policies increase their price compete directly with you because they saw a really successful business model they will do that there is nothing actually preventing them from doing that and in fact they get all of this incredible data they get to see what all of these companies build on top of their platform and then they can cherry-pick the best ones and recreate it this is a tried andrue model for platform companies and so now with canvas I'm looking at continue and other AI based idees and they should be nervous right now because this is essentially the first step in the direction to compete with those companies all right so enough of that let me know what you think of platform risk building on top of open AI in the comments All right so we have it GPT 40 with canvas let's just play around with it first of course let's get it to write the snake game now one thing that canvas doesn't do is execute code and I believe artifacts does do that so that's one thing that it's missing all right so here it is so it popped open a separate little area of the window window and it looks like a code editor we can delete stuff we can add it back easily here's the actual conversation over here but it removed a big part of what would have been there which is the code and place it in the separate window which I love so we have the game Snake we can't execute it plus that's not the point of this video so I'm not going to do that but let's see rather than these colors so we simply highlight then down in the right corner we have all of the different options so add comments add logs fix bugs port to a different language and code review so instead of doing that I'm just going to highlight it click ask chat GPT and I'm going to say change these colors to something else so it should yep look at that that's really cool so it just changed these colors everything else stayed the same you see the little editing update right here in the actual chat window and that's it I've updated the colors to new shades for better variation all right so that's how the basics work so what I could also do is highlight p game and ask it to use a different Library which would really change the entire application so use a different library and I love so now it's using turtle and it actually has to change a lot of things in the code and it knew to do that which is fantastic and I love the little animation that it has where it's just highlighting the code as it's changing it so I've updated the code to use the turtle library inside of pame let me know if you need further modifications all right so that's what that looks like but there's not many comments in this code right now so let's ask it to add comments so first let's ask it to add comments to this set of lines of code right there so I'm simply going to come over here and I'm going to click add comments and actually I was wrong it automatically adds comments to the entire document which is kind of weird cuz I only highlighted these but now it's adding a ton of comments but let's say we don't like this let's say we don't like python so let's Port it to a different language so I'm going to click port to different language and look we have a slider PHP C++ python keep current JavaScript typescript Java let's do JavaScript so I simply select that and it should rewrite it in JavaScript so easy so it's done now it's in JavaScript now let's try porting it to something like C++ Yep this looks like C++ all right thanks to the sponsor of this video vulture reap the benefits of the world's largest independent cloud provider when you bring your GPU workloads over to vulture they have the latest Nvidia gpus spanning 32 locations across six continents vulture delivers industry-leading price to Performance and serious accessibility and reliability vulture's Global fully composable Cloud infrastructure moves your applications closer to your users and frees you from vendor lockin allowing you to bring your own networking and database Solutions and if you need to scale Beyond just a single cluster vulture's kubernetes engine allows you to take full control over your deployment offering up a 100% free control plane so if you're tired of waiting for gpus from other providers make sure to use vulture you can deploy at any scale immediately and they have h100s l4s and more available right now and you can get a fraction of a card or fully dedicated bare metal systems which gives you full control over your hardware and your throughput they also have one-click installation of all the applications you might need for advanced machine learning workloads allowing you to get up and running in minutes not hours so experience the vulture difference don't get bogged down by severe weight times or limited locations try it free today with a $300 credit for your first 30 days when you visit get vulture.com bourman and make sure to use code Burman 300 checkout to get that credit thanks again to vulture for sponsoring this video all right now let's try fixing bugs so I'm actually going to switch it back cuz I don't know C++ very well at all I'm going to switch it back to python now let's add some bugs so right here for the move snake I'm going to use up twice and let's see if it's able to catch that so I go over here again and I look for the fix bugs icon I click that and let's see what it says so it's interesting it's actually changing a lot of the code already uh which I don't know why it would have to do that to fix the bugs because there was really only one bug let's see if it's able to fix that one and it did okay the down movement Direction was incorrectly assigned to up now something interesting is as I mentioned it changed a lot of the code which is not exactly what I wanted but that's fine let's see what happens if we just do fix bug one more time let's see if it just keeps finding bugs and maybe the way it was programmed it will just always find a bug with it yeah so it's definitely changing the code again just a little bit but it is changing it especially down here in the main game Loop it is changing it quite a bit I reviewed the code fix a bug where the game did not reset properly upon wall Collision okay so it looks like maybe it's thinking uh iterative improvements to the game is the same as a bug fix that's okay all right now let's add some logs first let's just try to add logs to something that I highlight I wonder if it's going to do that nope it's adding logs to everywhere so it doesn't seem like just highlighting the code does anything unless you are using that as GPT feature so it added a bunch of logs now let's see if I can remove the logs now remove the logs okay yeah so it is removing the logs all right I mean this seems pretty cool I think this is very basic to start with but I like it and it's definitely much better to kind of go through the iteration process of the code here and then paste it into VSS code but honestly this is kind of what continue and other IDE AI coders already do so they still have a long ways to go but it seems clear that they are definitely heading in the direction of competing with AI coding assistant all right now let's try some creative writing and let's see what it does so I'm going to start a new chat so write me a story about strawberries becoming intelligent intelligence I miswrote that okay so we have a story and just like I expected it should have output a new canvas area of the page so does this story capture the essence of what you imagine let me know if you'd like to make any changes so just like normal we can come in here we could delete stuff we could add remove this is fully editable and just like normal you can highlight certain areas and do ask chat GPT just like that but we're going to wait on that let's go down to the options we have so suggest adust edits adjust the length reading level add final polish and add emojis so let's first do suggest edits this is really cool okay so it's going to highlight different areas and kind of similar looking to Google Docs it gives you little comments that you can actually accept or decline so here consider adding more Vivid description of the setting to draw the reader in more effectively and create a stronger atmosphere so let's do that so it should rewrite that part there we go really good let's do it again right here so this says the Nanobots were designed to enhance neural Connections in living organisms and they worked their way into the strawberries nesting in amongst the seeds that dotted their red skin this sentence could benefit from a bit more explanation about why the Nanobots were designed this way okay let's try it all right now it says originally intended for medical research to improve brain function so it gives more background story so that's great so I'm going to decline these other ones and now let's adjust the length and again we have another slider so I want it to be shorter and it should rewrite the whole thing it's really cool the little subtle animations that they have so here we go much shorter let's see if we go even shorter than that so I'm going to go shortest all right and what happens if we do it again let's find out so I'm going to adjust the length again and go shortest again I wonder if it's going to go shorter or just keep it at the same length Okay so it did go a little shorter let's try to go shorter again just want to see where the limits of the functionality are yeah so it'll keep actually just shortening it so now let's go longer okay great let's try something else right now I don't know the current reading level but it's going to keep it there let's go to the kindergarden level so it's going to rewrite everything and just use simpler words easier grammar to read Etc so one day special rain fell on some strawberries yeah so this looks very good now let's change the reading level to graduate school yeah so they're definitely using longer more sophisticated words definitely looks like this would not be possible to read by by a kindergartener so that's really cool now let's go back to a kindergarten level and let's see what happens if we select kindergarten level after selecting kindergarten level so there we go and let's select kindergarten level again yeah it looks about the same so it just kind of roted didn't necessarily make it even more basic and that would make sense so let's go back and let's do high school level all right there we go now let's add emojis now funny thing about the ad emojis feature it's pretty much useless I mean unless that is exact ly what you're looking for it to do but why would you do that and Sam Alman posted a funny poll on Twitter yesterday is ADD emojis and canvas the best feature open AI has ever shipped yes and yes and so of course the answer is yes so there we go it added emojis now I'm going to say remove the emojis over here o i see a lot of Errors actually so here's rain just out of nowhere I think I saw a misspelling somewhere in here but I'm not seeing it now so maybe it corrected it and let's go to add final polish now hopefully it corrects this rain at the beginning it did okay good and it added a title now so this is really cool so I've come to adore. comom and I'm going to give it some problems I'm going to have it fix bugs so I'm going to highlight the code that they have I'm going to copy it and the problem is uninitialized variables and Fields so let's switch back to Canvas and I'm going to say fix bugs in this using canvas I don't know if I actually have to do that we'll see yep okay so it did open it up contact bug fix so let's see it's writing the code out first good and it didn't actually tell me what the bugs were here we go I've addressed a few issues in the original code initialization of done in the complete procedure done was not being explicitly initialized to false null contact definition and get by name initialization so these seem like what needed to be fixed so I think it did catch this c. name length on line 86 the contacts. complete not initialize let's look yeah the complete procedure I think that fixed it obviously I'm not checking exactly but it seems like it definitely identified it so that's the new feature Chachi PT with canvas looks very cool still very basic but I think if they continue to iterate they're going to be competing with a lot of other AI products built on top of them either way let me know what you think of canvas let me know what you think of platform risk of being a company built on top of open ai's API and if you enjoyed this video please consider giving a like And subscribe and I'll see see you in the next one\")]"
            ]
          },
          "execution_count": 32,
          "metadata": {},
          "output_type": "execute_result"
        }
      ],
      "source": [
        "video_data"
      ]
    },
    {
      "cell_type": "code",
      "execution_count": 43,
      "metadata": {},
      "outputs": [
        {
          "data": {
            "text/plain": [
              "[Document(metadata={'source': '4s7rlRkwC0U'}, page_content=\"welcome to my channel and this is a podcast speak [Music] English hello English Learners welcome back to another lesson here at English pod my name is Marco and my name is Katherine hello everyone today Marco what are we talking about well today we are um not really in the best mood what you mean we're kind of sad we're kind of um nervous we're we're not feeling very well yeah it's a it's a cloudy day maybe that's why at the blues the blues so yeah that's what we're talking about today we're going to have a lot of different descriptive words to express of maybe feeling sad or maybe you're angry or you're nervous or something like that okay well this is a very useful lesson hopefully you're not feeling this way but if you have to talk about someone who is got lots of words for you but first we're going to preview a couple in today's vocabulary preview vocabulary preview all right so today on vocabulary preview we're going to look at two words words and uh the first one is a way of saying that you feel sad so basically I'm feeling down okay down you might have heard this before because it's the opposite of the word up exactly so you're not feeling up happy looking up you're feeling down this is another word for sad like Marco said or you can also say I'm I'm a bit down today right yeah I'm a bit down today or you look really down are you okay yeah so you look sad are you is everything okay so down so now another feel feeling or a way that a person is feeling maybe that person is Grouchy would you please stop talking so loud Marco I think uh you have no I'm I'm seriously don't be grouchy Catherine jeez no so grouchy is is a way someone acts usually when they're in a bad mood right so it's not like really angry you're not angry but uh you're not very happy either and you're not very nice to people so there's a very famous TV character called Oscar the Grouch on Sesame Street look for him on YouTube or Yoku and uh he's very very good uh for learning about this feeling grouchy because he's a grouchy guy yeah he's always angry or not never happy basically right he's always complaining about something so that word again is Grouchy all right so after taking a look at these two words we're ready now to listen to our dialogue for the first time let's see what this dialogue is about if maybe they're grouchy or maybe just sad fine okay I'll talk to you later bye Carrie are you okay you seem a bit down I just got off the phone with my boyfriend he's always getting upset and losing his temper over nothing it's so hard to talk to him at times maybe it's just that he's stressed out from working or something he does have a pretty nerve-wracking job you know yeah but he's always in a really foul mood I tried to find out what's bothering him or get him to talk about his day but he he always shuts down and brushes me off men are like that you know they can feel nervous anxious or on edge and the only way they can express it is by trying to hide it through aggressiveness I guess you're right what do you think I should do he wasn't always as grouchy you know talk to him try to cheer him up when he's down and if that doesn't work I say get rid of him and get a new one you are something else you know that all right so two girls talking about guys I guess guys have a a bad temper sometimes right I think anyone can have a bad temper but we're talking today about one of uh the boyfriend of one of these girls who has a very bad temper and has been very grouchy recently mhm and that's why she's feeling a bit down mhm so let's take a look at those words now in language takeaway language takeaway all right so in today's language takeaway we've got some wonderful words for you words that are very good for describing stress or having anx anxiety and the first of these words is something you hear all the time especially with young people right somebody is stressed out my gosh Marco I'm so stressed out I have 10 homework assignments to do and S softball practice and my mom wants me to help cook dinner tonight wow you really are stressed out I am well I don't have any homework and I don't live with my mom but uh being stressed out is usually something you feel when you have too much stuff to do mhm M so maybe you can be stressed out because U of school like in your case or maybe at work you have a lot of things to do or a project to finish right exactly and I just want to point out here that you can say I'm stressed or I'm feeling stressed but uh commonly in spoken English so when you're talking to your friends you hear this much more often stressed out stressed out he's really stressed out lately mhm all right so we're stressed out or another word that kind of means the same is this is nerve-wracking nerve wracking so nerves are those things in our body that help us feel things right and so something that racks our nerves makes us very very tense very anxious very uncomfortable okay so it makes you very nervous right so there are some movies that are nerve-wracking for example suspense movies like Hitchcock's movies like psycho or the birds or like like maybe saw o nerve-wracking also some people think roller coasters are nerve-wracking they're very very uh anxious when they ride roller coasters right so let's listen to a couple of more examples of in different situations where we can use this phrase nerve-wracking example one I think being a doctor is one of the most nerve-wracking jobs in the world example two skydiving was one of the most nerve-wracking experiences of my life I almost had a heart attack example three the final match between Brazil and Italy was incredibly nerve-racking and there's another way to describe this feeling again it's a little bit different but very very similar we can say someone is feeling on edge on edge so this person was feeling on edge uh but what does that mean exactly you're like at the edge why do you have to ask so many questions okay listen this is B sick okay Marco all right all right are you are you mocking me on edge today all right so someone who is on edge is easily angered right so it's very easy to make this person upset or angry mhm someone who just quit smoking might be on edge that means it's very very easy to get them to be upset wow so yeah you are on edge right exactly he's on edge or he seems on edge doesn't he mhm M okay very good wow these uh three words that we've just looked at are really interesting and very very useful I guess you can describe many different situations or a person that's going through these feelings right absolutely I think there is a thousand ways to describe being nervous or anxious or upset so maybe we should take take another listen to today's dialogue and figure out how exactly we use these words and we come back we talking about some other phrases that are useful okay I'll talk to you later bye Carrie are you okay you seem a bit down I just got off the phone with my boyfriend he's always getting upset and losing his temper over nothing it's so hard to talk to him at times maybe it's just that he's stressed out from working or something he does have a pretty nerve-wracking job you know yeah but he's always in a really foul mood I try to find out what's bothering him or get him to talk about his day but he he always shuts down and brushes me off men are like that you know they can feel nervous anxious or on edge and the only way they can express it is by trying to hide it through aggressiveness I guess you're right what do you think I should do he wasn't always as grouchy you know talk to him try to cheer him up when he's down and if that doesn't work I say get rid of him and get a new one you are something else you know that all right great so now that we're back we can start with a couple of different phrases now on fluency Builder fluency Builder all right so Marco here's the big question what makes you lose your temper H I think what makes me lose my temper very very easily is uh like a dirty house or like a dirty room really you're in neat freak not really neat freak but like if it's not at least semi my clean you know it really it really B bothers me okay so this great phrase lose your temper or lose one's temper is is a phrase we use in English to describe getting angry all right so maybe you're okay you're a little frustrated with something but someone does something like throws all of their clothes on the floor and Marco here says oh that's it I'm tired of this you're always throwing your clothes on the floor and that's that's an example of Marco losing his temper what about you what makes you lose your temper you hear this what is that oh drilling construction when people when people tap tap tap tap tap tap tap or when they like stomp their feet feet feet when they nervous when they make noise yeah and so slowly it's like okay fine calm down it's okay okay no seriously stop it serious and then all of a sudden I just can't stand it anymore explode exactly so all right so that what's so that's what makes you lose your temper I'll be sure to um keep my eye out of for that not tap my pen all right all right so okay you lose your temper and now uh there are situations sometimes where you need to brush someone off all right or when you get brushed off and that's not very good feeling but uh this phrase to brush someone off you've heard the word brush before it's the word that we use to to you know brush your hair or brush your teeth exactly when you brush someone off it's like saying that you're ignoring them yeah so you ignore them or you basically tell them to go away very subtly sometimes or very directly exactly and so to brush someone off is to avoid their company and so a lot of times when people are angry they like to be alone so they brush you off mhm so I could say hey did you want to go see that movie tonight uh no I can't I uh have to do something tonight and then Marco walks away while we're talking he's brushing me off he's ignoring me yeah so uh it happens and also maybe some people can make up excuses and that's also brushing someone off right right exactly so to brush someone off or he brushed me off doesn't feel good all right and well all of these all of these bad feelings brushing somebody off maybe you feel stressed out in the end you always need a good friend to cheer you up right and that's what this dialogue is all about exactly and so friends are actually the people that do that the best or family I think and uh well we can break this phrase down because uh most of it's pretty clear but cheer might be a new word for some of our listeners maybe we've heard of the term cheerleader you know like give me an a hey hey so cheer or people cheering or cheers when the beer so cheer is like happiness so someone who can cheer you up is someone who makes you happy remember that down we had earlier I'm feeling down we're trying to cheer someone up we trying to make them go up and be happy exactly so you want to cheer up your friends or maybe if you're feeling a bit down a family member will try and cheer you up do you need someone to cheer you up Marco yes I do let's go have a drink and eat some pop CN and be cheered up that's what cheers me up or chocolate always cheers me up oh I know there's some of that all right so we've taken a look at a lot of great phrases but the last sentence of the dialogue is maybe a little bit uh strange right when she says you are something else you know that uh something what like U is she an alien is she a monkey what does she mean when she says you are something else that's a great question well this might be a little bit hard to understand at first but she's saying I can't believe you mhm she's like there's no one like you you're really something else you know that so it's kind of like a joke but uh what she's saying is I can't believe you you just want to go on and encourage me to find another boy you're like you're unbelievable so it could be is it on a positive note or can it be both positive and negative well here we've got two friends who are using it so it's a positive note but she's kind of making fun of her saying I can't believe you um but it can be negative more negative fighting with her boyfriend and and her boyfriend cheats on her and she's like you're really something else you know you are something else you know that it's like there's no comparison you're the worst yeah exactly so yeah it really depends on how this is used and what the tone of voice is so how someone says it uh but in this case I think it's a kind of a joke joke but uh it's it's a positive right very interesting it's very spoken English as you say because all the words that we see there they're pretty simple but the context or the connotation the meaning is very very different from the actual words right exactly mhm all right so let's listen to this dialogue for the last time and then we'll come back and talk a little bit more okay I'll talk to you later bye Carrie are you okay you seem a bit down I just got off the phone with my boyfriend he's always getting upset and losing his temper over nothing it's so hard to talk to him at times maybe it's just that he's stressed out from working or something he does have a pretty nerve-wracking job you know yeah yeah but he's always in a really foul mood I tried to find out what's bothering him or get him to talk about his day but he he always shuts down and brushes me off men are like that you know they can feel nervous anxious or on edge and the only way they can express it is by trying to hide it through aggressiveness I guess you're right what do you think I should do he wasn't always as grouchy you know talk to him try to cheer him up when he's down and if that doesn't work I say get rid of him and get a new one you have something else you know that so Catherine are you a grouchy person are you happy do you have a bad temper oh these are well very interesting questions Marco thank you for asking no the first the first them am I grouchy no not very only before 9:00 a.m. you're not a morning person not a morning person so I'm very grouchy in the morning but uh I'm generally pretty good about losing my temper it doesn't happen very often really um but I do get frustrated with things like tapping or when people eat with their mouth open oh yeah that's terrible I hate that as well yeah I can't stand it or uh I really don't like when people bite their nails ooh it's kind of uh it also makes me lose my temper I don't know it more than makes me lose my temper it's kind of annoying right it is annoying so what makes you really lose your temper we say what makes you blow your top think about it a volcano really grinds my gears yeah um I would say the worst is uh when somebody lies to me like straight in my face like I know they're lying I know you're lying and he still just lies straight at me I agree so what's something that really cheers you up because we talked about like going out with a friend maybe helps you helps you cheer up but is there one thing some kind of Remedy I have actually I like to go shopping when I'm really yeah I mean I won't buy anything like clothes or anything like that usually I'll get maybe something for somebody else or for the house or something it's very strange helps you like clear your mind yeah it's just like uh walking around and spending a little bit of money I don't know it's kind of a good remedy yeah I think so what about you what what cheers you up I kind of like to organize things really y so if I'm really angry or really upset about something I'll um alphabetize all of my books oh wow yeah so A to Z wow see everyone has different remedies so come to our website englishpt talk come tell us what makes you angry what makes you lose your temper or what really cheers you up what makes you happy who cheers you up so tell us who is someone you like to talk to when you're upset and how do they cheer you up all right we'll see you guys there and also if you have questions comments suggestions you can also leave them there in our comment section please do that so that's all for today goodbye everyone [Music] bye the English pod audio review listen to the meaning then say the vocabulary word feeling sad not happy down in the dumps sad or unhappy down having sad feelings or emotions have the blues to feel very worried or anxious stress out to fluster unnerve rattled causing a person to feel very nervous nerve-wracking makes me angry upsets me grinds my gears refuse to talk about something with someone brush me off upset very angry pissed off to make someone happier cheer up let's try that faster causing a person to feel very nervous nerve-wracking sad or unhappy down having sad Fe feelings or emotions have the blues refuse to talk about something with someone brush me off upset very angry pissed off feeling sad not happy down in the dumps to fluster unnerve rattled makes me angry upsets me grinds my gears to make someone happier cheer up to feel very worried or anxious stress out now say the word and hear it in a sentence down Ben is feeling a bit down today since his girlfriend broke up with him down are you okay you seem down today down whenever I'm feeling down I go out with my friends and then I feel much better stress out David has been really stressed out lately his boss is putting a lot of pressure on him in his new job stress out I can't talk right now I'm stressed out about this exam I have tomorrow if I don't pass it my dad is going to kill me stress out are you okay you seem to be really stressed out lately what's going on nerve-wracking I think being a doctor is one of the most most nerve-wracking jobs in the world nerve-wracking skydiving was one of the most nerve-wracking experiences of my life I almost had a heart attack nerve-wracking the final match between Brazil and ital was incredibly nerve-wracking brush me off when she told me my project would be a better television film than a feature film I thought she was brushing me off brush me off I asked her out on a date many times but she always brushed me off making up some excuse brush me off Carolyn went to the doctor without an appointment and the receptionist brushed her off and told her to come back the next day cheer up I hate it when people try to cheer me up when I feel sad I just want to be left alone cheer up I don't know what else to do I've tried everything to cheer Mandy up but she won't stop crying cheer up you know what really cheers me up when I'm sad shopping [Music]\")]"
            ]
          },
          "execution_count": 43,
          "metadata": {},
          "output_type": "execute_result"
        }
      ],
      "source": [
        "# Example usage\n",
        "video_url = \"https://youtu.be/4s7rlRkwC0U?si=uFQJvh0OxedykGjL\"  # Replace with your target video\n",
        "video_data = load_video_transcript(video_url)\n",
        "video_data"
      ]
    },
    {
      "cell_type": "markdown",
      "metadata": {
        "id": "NG9nTFyUOwCm"
      },
      "source": [
        "### Split Content into Chunks"
      ]
    },
    {
      "cell_type": "code",
      "execution_count": 45,
      "metadata": {
        "id": "i8sC_0i6Oxw9"
      },
      "outputs": [
        {
          "data": {
            "text/plain": [
              "[Document(metadata={'source': '4s7rlRkwC0U'}, page_content=\"welcome to my channel and this is a podcast speak [Music] English hello English Learners welcome back to another lesson here at English pod my name is Marco and my name is Katherine hello everyone today Marco what are we talking about well today we are um not really in the best mood what you mean we're kind of sad we're kind of um nervous we're we're not feeling very well yeah it's a it's a cloudy day maybe that's why at the blues the blues so yeah that's what we're talking about today we're going to have a lot of different descriptive words to express of maybe feeling sad or maybe you're angry or you're nervous or something like that okay well this is a very useful lesson hopefully you're not feeling this way but if you have to talk about someone who is got lots of words for you but first we're going to preview a couple in today's vocabulary preview vocabulary preview all right so today on vocabulary preview we're going to look at two words words and uh the first one is a way of\"),\n",
              " Document(metadata={'source': '4s7rlRkwC0U'}, page_content=\"today on vocabulary preview we're going to look at two words words and uh the first one is a way of saying that you feel sad so basically I'm feeling down okay down you might have heard this before because it's the opposite of the word up exactly so you're not feeling up happy looking up you're feeling down this is another word for sad like Marco said or you can also say I'm I'm a bit down today right yeah I'm a bit down today or you look really down are you okay yeah so you look sad are you is everything okay so down so now another feel feeling or a way that a person is feeling maybe that person is Grouchy would you please stop talking so loud Marco I think uh you have no I'm I'm seriously don't be grouchy Catherine jeez no so grouchy is is a way someone acts usually when they're in a bad mood right so it's not like really angry you're not angry but uh you're not very happy either and you're not very nice to people so there's a very famous TV character called Oscar the Grouch on\"),\n",
              " Document(metadata={'source': '4s7rlRkwC0U'}, page_content=\"and you're not very nice to people so there's a very famous TV character called Oscar the Grouch on Sesame Street look for him on YouTube or Yoku and uh he's very very good uh for learning about this feeling grouchy because he's a grouchy guy yeah he's always angry or not never happy basically right he's always complaining about something so that word again is Grouchy all right so after taking a look at these two words we're ready now to listen to our dialogue for the first time let's see what this dialogue is about if maybe they're grouchy or maybe just sad fine okay I'll talk to you later bye Carrie are you okay you seem a bit down I just got off the phone with my boyfriend he's always getting upset and losing his temper over nothing it's so hard to talk to him at times maybe it's just that he's stressed out from working or something he does have a pretty nerve-wracking job you know yeah but he's always in a really foul mood I tried to find out what's bothering him or get him to\"),\n",
              " Document(metadata={'source': '4s7rlRkwC0U'}, page_content=\"yeah but he's always in a really foul mood I tried to find out what's bothering him or get him to talk about his day but he he always shuts down and brushes me off men are like that you know they can feel nervous anxious or on edge and the only way they can express it is by trying to hide it through aggressiveness I guess you're right what do you think I should do he wasn't always as grouchy you know talk to him try to cheer him up when he's down and if that doesn't work I say get rid of him and get a new one you are something else you know that all right so two girls talking about guys I guess guys have a a bad temper sometimes right I think anyone can have a bad temper but we're talking today about one of uh the boyfriend of one of these girls who has a very bad temper and has been very grouchy recently mhm and that's why she's feeling a bit down mhm so let's take a look at those words now in language takeaway language takeaway all right so in today's language takeaway we've got\"),\n",
              " Document(metadata={'source': '4s7rlRkwC0U'}, page_content=\"now in language takeaway language takeaway all right so in today's language takeaway we've got some wonderful words for you words that are very good for describing stress or having anx anxiety and the first of these words is something you hear all the time especially with young people right somebody is stressed out my gosh Marco I'm so stressed out I have 10 homework assignments to do and S softball practice and my mom wants me to help cook dinner tonight wow you really are stressed out I am well I don't have any homework and I don't live with my mom but uh being stressed out is usually something you feel when you have too much stuff to do mhm M so maybe you can be stressed out because U of school like in your case or maybe at work you have a lot of things to do or a project to finish right exactly and I just want to point out here that you can say I'm stressed or I'm feeling stressed but uh commonly in spoken English so when you're talking to your friends you hear this much more\"),\n",
              " Document(metadata={'source': '4s7rlRkwC0U'}, page_content=\"but uh commonly in spoken English so when you're talking to your friends you hear this much more often stressed out stressed out he's really stressed out lately mhm all right so we're stressed out or another word that kind of means the same is this is nerve-wracking nerve wracking so nerves are those things in our body that help us feel things right and so something that racks our nerves makes us very very tense very anxious very uncomfortable okay so it makes you very nervous right so there are some movies that are nerve-wracking for example suspense movies like Hitchcock's movies like psycho or the birds or like like maybe saw o nerve-wracking also some people think roller coasters are nerve-wracking they're very very uh anxious when they ride roller coasters right so let's listen to a couple of more examples of in different situations where we can use this phrase nerve-wracking example one I think being a doctor is one of the most nerve-wracking jobs in the world example two\"),\n",
              " Document(metadata={'source': '4s7rlRkwC0U'}, page_content=\"example one I think being a doctor is one of the most nerve-wracking jobs in the world example two skydiving was one of the most nerve-wracking experiences of my life I almost had a heart attack example three the final match between Brazil and Italy was incredibly nerve-racking and there's another way to describe this feeling again it's a little bit different but very very similar we can say someone is feeling on edge on edge so this person was feeling on edge uh but what does that mean exactly you're like at the edge why do you have to ask so many questions okay listen this is B sick okay Marco all right all right are you are you mocking me on edge today all right so someone who is on edge is easily angered right so it's very easy to make this person upset or angry mhm someone who just quit smoking might be on edge that means it's very very easy to get them to be upset wow so yeah you are on edge right exactly he's on edge or he seems on edge doesn't he mhm M okay very good wow these\"),\n",
              " Document(metadata={'source': '4s7rlRkwC0U'}, page_content=\"on edge right exactly he's on edge or he seems on edge doesn't he mhm M okay very good wow these uh three words that we've just looked at are really interesting and very very useful I guess you can describe many different situations or a person that's going through these feelings right absolutely I think there is a thousand ways to describe being nervous or anxious or upset so maybe we should take take another listen to today's dialogue and figure out how exactly we use these words and we come back we talking about some other phrases that are useful okay I'll talk to you later bye Carrie are you okay you seem a bit down I just got off the phone with my boyfriend he's always getting upset and losing his temper over nothing it's so hard to talk to him at times maybe it's just that he's stressed out from working or something he does have a pretty nerve-wracking job you know yeah but he's always in a really foul mood I try to find out what's bothering him or get him to talk about his day\"),\n",
              " Document(metadata={'source': '4s7rlRkwC0U'}, page_content=\"in a really foul mood I try to find out what's bothering him or get him to talk about his day but he he always shuts down and brushes me off men are like that you know they can feel nervous anxious or on edge and the only way they can express it is by trying to hide it through aggressiveness I guess you're right what do you think I should do he wasn't always as grouchy you know talk to him try to cheer him up when he's down and if that doesn't work I say get rid of him and get a new one you are something else you know that all right great so now that we're back we can start with a couple of different phrases now on fluency Builder fluency Builder all right so Marco here's the big question what makes you lose your temper H I think what makes me lose my temper very very easily is uh like a dirty house or like a dirty room really you're in neat freak not really neat freak but like if it's not at least semi my clean you know it really it really B bothers me okay so this great phrase lose\"),\n",
              " Document(metadata={'source': '4s7rlRkwC0U'}, page_content=\"not at least semi my clean you know it really it really B bothers me okay so this great phrase lose your temper or lose one's temper is is a phrase we use in English to describe getting angry all right so maybe you're okay you're a little frustrated with something but someone does something like throws all of their clothes on the floor and Marco here says oh that's it I'm tired of this you're always throwing your clothes on the floor and that's that's an example of Marco losing his temper what about you what makes you lose your temper you hear this what is that oh drilling construction when people when people tap tap tap tap tap tap tap or when they like stomp their feet feet feet when they nervous when they make noise yeah and so slowly it's like okay fine calm down it's okay okay no seriously stop it serious and then all of a sudden I just can't stand it anymore explode exactly so all right so that what's so that's what makes you lose your temper I'll be sure to um keep my eye out\"),\n",
              " Document(metadata={'source': '4s7rlRkwC0U'}, page_content=\"right so that what's so that's what makes you lose your temper I'll be sure to um keep my eye out of for that not tap my pen all right all right so okay you lose your temper and now uh there are situations sometimes where you need to brush someone off all right or when you get brushed off and that's not very good feeling but uh this phrase to brush someone off you've heard the word brush before it's the word that we use to to you know brush your hair or brush your teeth exactly when you brush someone off it's like saying that you're ignoring them yeah so you ignore them or you basically tell them to go away very subtly sometimes or very directly exactly and so to brush someone off is to avoid their company and so a lot of times when people are angry they like to be alone so they brush you off mhm so I could say hey did you want to go see that movie tonight uh no I can't I uh have to do something tonight and then Marco walks away while we're talking he's brushing me off he's ignoring\"),\n",
              " Document(metadata={'source': '4s7rlRkwC0U'}, page_content=\"something tonight and then Marco walks away while we're talking he's brushing me off he's ignoring me yeah so uh it happens and also maybe some people can make up excuses and that's also brushing someone off right right exactly so to brush someone off or he brushed me off doesn't feel good all right and well all of these all of these bad feelings brushing somebody off maybe you feel stressed out in the end you always need a good friend to cheer you up right and that's what this dialogue is all about exactly and so friends are actually the people that do that the best or family I think and uh well we can break this phrase down because uh most of it's pretty clear but cheer might be a new word for some of our listeners maybe we've heard of the term cheerleader you know like give me an a hey hey so cheer or people cheering or cheers when the beer so cheer is like happiness so someone who can cheer you up is someone who makes you happy remember that down we had earlier I'm feeling down\"),\n",
              " Document(metadata={'source': '4s7rlRkwC0U'}, page_content=\"can cheer you up is someone who makes you happy remember that down we had earlier I'm feeling down we're trying to cheer someone up we trying to make them go up and be happy exactly so you want to cheer up your friends or maybe if you're feeling a bit down a family member will try and cheer you up do you need someone to cheer you up Marco yes I do let's go have a drink and eat some pop CN and be cheered up that's what cheers me up or chocolate always cheers me up oh I know there's some of that all right so we've taken a look at a lot of great phrases but the last sentence of the dialogue is maybe a little bit uh strange right when she says you are something else you know that uh something what like U is she an alien is she a monkey what does she mean when she says you are something else that's a great question well this might be a little bit hard to understand at first but she's saying I can't believe you mhm she's like there's no one like you you're really something else you know\"),\n",
              " Document(metadata={'source': '4s7rlRkwC0U'}, page_content=\"I can't believe you mhm she's like there's no one like you you're really something else you know that so it's kind of like a joke but uh what she's saying is I can't believe you you just want to go on and encourage me to find another boy you're like you're unbelievable so it could be is it on a positive note or can it be both positive and negative well here we've got two friends who are using it so it's a positive note but she's kind of making fun of her saying I can't believe you um but it can be negative more negative fighting with her boyfriend and and her boyfriend cheats on her and she's like you're really something else you know you are something else you know that it's like there's no comparison you're the worst yeah exactly so yeah it really depends on how this is used and what the tone of voice is so how someone says it uh but in this case I think it's a kind of a joke joke but uh it's it's a positive right very interesting it's very spoken English as you say because all the\"),\n",
              " Document(metadata={'source': '4s7rlRkwC0U'}, page_content=\"uh it's it's a positive right very interesting it's very spoken English as you say because all the words that we see there they're pretty simple but the context or the connotation the meaning is very very different from the actual words right exactly mhm all right so let's listen to this dialogue for the last time and then we'll come back and talk a little bit more okay I'll talk to you later bye Carrie are you okay you seem a bit down I just got off the phone with my boyfriend he's always getting upset and losing his temper over nothing it's so hard to talk to him at times maybe it's just that he's stressed out from working or something he does have a pretty nerve-wracking job you know yeah yeah but he's always in a really foul mood I tried to find out what's bothering him or get him to talk about his day but he he always shuts down and brushes me off men are like that you know they can feel nervous anxious or on edge and the only way they can express it is by trying to hide it\"),\n",
              " Document(metadata={'source': '4s7rlRkwC0U'}, page_content=\"can feel nervous anxious or on edge and the only way they can express it is by trying to hide it through aggressiveness I guess you're right what do you think I should do he wasn't always as grouchy you know talk to him try to cheer him up when he's down and if that doesn't work I say get rid of him and get a new one you have something else you know that so Catherine are you a grouchy person are you happy do you have a bad temper oh these are well very interesting questions Marco thank you for asking no the first the first them am I grouchy no not very only before 9:00 a.m. you're not a morning person not a morning person so I'm very grouchy in the morning but uh I'm generally pretty good about losing my temper it doesn't happen very often really um but I do get frustrated with things like tapping or when people eat with their mouth open oh yeah that's terrible I hate that as well yeah I can't stand it or uh I really don't like when people bite their nails ooh it's kind of uh it also\"),\n",
              " Document(metadata={'source': '4s7rlRkwC0U'}, page_content=\"I can't stand it or uh I really don't like when people bite their nails ooh it's kind of uh it also makes me lose my temper I don't know it more than makes me lose my temper it's kind of annoying right it is annoying so what makes you really lose your temper we say what makes you blow your top think about it a volcano really grinds my gears yeah um I would say the worst is uh when somebody lies to me like straight in my face like I know they're lying I know you're lying and he still just lies straight at me I agree so what's something that really cheers you up because we talked about like going out with a friend maybe helps you helps you cheer up but is there one thing some kind of Remedy I have actually I like to go shopping when I'm really yeah I mean I won't buy anything like clothes or anything like that usually I'll get maybe something for somebody else or for the house or something it's very strange helps you like clear your mind yeah it's just like uh walking around and\"),\n",
              " Document(metadata={'source': '4s7rlRkwC0U'}, page_content=\"it's very strange helps you like clear your mind yeah it's just like uh walking around and spending a little bit of money I don't know it's kind of a good remedy yeah I think so what about you what what cheers you up I kind of like to organize things really y so if I'm really angry or really upset about something I'll um alphabetize all of my books oh wow yeah so A to Z wow see everyone has different remedies so come to our website englishpt talk come tell us what makes you angry what makes you lose your temper or what really cheers you up what makes you happy who cheers you up so tell us who is someone you like to talk to when you're upset and how do they cheer you up all right we'll see you guys there and also if you have questions comments suggestions you can also leave them there in our comment section please do that so that's all for today goodbye everyone [Music] bye the English pod audio review listen to the meaning then say the vocabulary word feeling sad not happy down in the\"),\n",
              " Document(metadata={'source': '4s7rlRkwC0U'}, page_content=\"audio review listen to the meaning then say the vocabulary word feeling sad not happy down in the dumps sad or unhappy down having sad feelings or emotions have the blues to feel very worried or anxious stress out to fluster unnerve rattled causing a person to feel very nervous nerve-wracking makes me angry upsets me grinds my gears refuse to talk about something with someone brush me off upset very angry pissed off to make someone happier cheer up let's try that faster causing a person to feel very nervous nerve-wracking sad or unhappy down having sad Fe feelings or emotions have the blues refuse to talk about something with someone brush me off upset very angry pissed off feeling sad not happy down in the dumps to fluster unnerve rattled makes me angry upsets me grinds my gears to make someone happier cheer up to feel very worried or anxious stress out now say the word and hear it in a sentence down Ben is feeling a bit down today since his girlfriend broke up with him down are you\"),\n",
              " Document(metadata={'source': '4s7rlRkwC0U'}, page_content=\"a sentence down Ben is feeling a bit down today since his girlfriend broke up with him down are you okay you seem down today down whenever I'm feeling down I go out with my friends and then I feel much better stress out David has been really stressed out lately his boss is putting a lot of pressure on him in his new job stress out I can't talk right now I'm stressed out about this exam I have tomorrow if I don't pass it my dad is going to kill me stress out are you okay you seem to be really stressed out lately what's going on nerve-wracking I think being a doctor is one of the most most nerve-wracking jobs in the world nerve-wracking skydiving was one of the most nerve-wracking experiences of my life I almost had a heart attack nerve-wracking the final match between Brazil and ital was incredibly nerve-wracking brush me off when she told me my project would be a better television film than a feature film I thought she was brushing me off brush me off I asked her out on a date many\"),\n",
              " Document(metadata={'source': '4s7rlRkwC0U'}, page_content=\"than a feature film I thought she was brushing me off brush me off I asked her out on a date many times but she always brushed me off making up some excuse brush me off Carolyn went to the doctor without an appointment and the receptionist brushed her off and told her to come back the next day cheer up I hate it when people try to cheer me up when I feel sad I just want to be left alone cheer up I don't know what else to do I've tried everything to cheer Mandy up but she won't stop crying cheer up you know what really cheers me up when I'm sad shopping [Music]\")]"
            ]
          },
          "execution_count": 45,
          "metadata": {},
          "output_type": "execute_result"
        }
      ],
      "source": [
        "text_splitter = RecursiveCharacterTextSplitter(chunk_size=1000, chunk_overlap=100)\n",
        "splits = text_splitter.split_documents(video_data)\n",
        "splits"
      ]
    },
    {
      "cell_type": "markdown",
      "metadata": {
        "id": "kqo8QfvNPKqO"
      },
      "source": [
        "### Initialize Embeddings and Chroma Vector Store"
      ]
    },
    {
      "cell_type": "markdown",
      "metadata": {},
      "source": [
        "##### Using OpenAI Embeddings"
      ]
    },
    {
      "cell_type": "code",
      "execution_count": null,
      "metadata": {
        "id": "uCersyHBPLkQ"
      },
      "outputs": [],
      "source": [
        "embeddings = OpenAIEmbeddings(model=\"text-embedding-3-small\")\n",
        "\n",
        "# Create a Chroma vector store\n",
        "vectorstore = Chroma.from_documents(splits, embeddings)"
      ]
    },
    {
      "cell_type": "markdown",
      "metadata": {},
      "source": [
        "##### Using GeminiAI Embeddings"
      ]
    },
    {
      "cell_type": "code",
      "execution_count": 46,
      "metadata": {},
      "outputs": [],
      "source": [
        "embeddings = GoogleGenerativeAIEmbeddings(model=\"models/embedding-001\")\n",
        "\n",
        "# Create a Chroma vector store\n",
        "vectorstore = Chroma.from_documents(splits, embeddings)"
      ]
    },
    {
      "cell_type": "markdown",
      "metadata": {
        "id": "sVlNUtzfPRDx"
      },
      "source": [
        "### Set Up Conversational Retrieval Chain"
      ]
    },
    {
      "cell_type": "markdown",
      "metadata": {},
      "source": [
        "##### Using OpenAI"
      ]
    },
    {
      "cell_type": "code",
      "execution_count": null,
      "metadata": {
        "id": "-x2tV1EaPR6Q"
      },
      "outputs": [],
      "source": [
        "llm = ChatOpenAI(model=\"gpt-4o\", temperature=0.7)\n",
        "\n",
        "qa = ConversationalRetrievalChain.from_llm(\n",
        "    llm=llm,\n",
        "    retriever=vectorstore.as_retriever(),\n",
        "    memory = ConversationBufferMemory(memory_key=\"chat_history\", return_messages=True)\n",
        "  )"
      ]
    },
    {
      "cell_type": "markdown",
      "metadata": {},
      "source": [
        "##### Using GeminiAI"
      ]
    },
    {
      "cell_type": "code",
      "execution_count": 47,
      "metadata": {},
      "outputs": [
        {
          "data": {
            "text/plain": [
              "ConversationalRetrievalChain(memory=ConversationBufferMemory(chat_memory=InMemoryChatMessageHistory(messages=[]), return_messages=True, memory_key='chat_history'), verbose=False, combine_docs_chain=StuffDocumentsChain(verbose=False, llm_chain=LLMChain(verbose=False, prompt=ChatPromptTemplate(input_variables=['context', 'question'], input_types={}, partial_variables={}, messages=[SystemMessagePromptTemplate(prompt=PromptTemplate(input_variables=['context'], input_types={}, partial_variables={}, template=\"Use the following pieces of context to answer the user's question. \\nIf you don't know the answer, just say that you don't know, don't try to make up an answer.\\n----------------\\n{context}\"), additional_kwargs={}), HumanMessagePromptTemplate(prompt=PromptTemplate(input_variables=['question'], input_types={}, partial_variables={}, template='{question}'), additional_kwargs={})]), llm=ChatGoogleGenerativeAI(model='models/gemini-1.5-flash', google_api_key=SecretStr('**********'), client=<google.ai.generativelanguage_v1beta.services.generative_service.client.GenerativeServiceClient object at 0x00000245C9047FE0>, default_metadata=()), output_parser=StrOutputParser(), llm_kwargs={}), document_prompt=PromptTemplate(input_variables=['page_content'], input_types={}, partial_variables={}, template='{page_content}'), document_variable_name='context'), question_generator=LLMChain(verbose=False, prompt=PromptTemplate(input_variables=['chat_history', 'question'], input_types={}, partial_variables={}, template='Given the following conversation and a follow up question, rephrase the follow up question to be a standalone question, in its original language.\\n\\nChat History:\\n{chat_history}\\nFollow Up Input: {question}\\nStandalone question:'), llm=ChatGoogleGenerativeAI(model='models/gemini-1.5-flash', google_api_key=SecretStr('**********'), client=<google.ai.generativelanguage_v1beta.services.generative_service.client.GenerativeServiceClient object at 0x00000245C9047FE0>, default_metadata=()), output_parser=StrOutputParser(), llm_kwargs={}), retriever=VectorStoreRetriever(tags=['Chroma', 'GoogleGenerativeAIEmbeddings'], vectorstore=<langchain_community.vectorstores.chroma.Chroma object at 0x00000245C4964350>, search_kwargs={}))"
            ]
          },
          "execution_count": 47,
          "metadata": {},
          "output_type": "execute_result"
        }
      ],
      "source": [
        "llm = ChatGoogleGenerativeAI(model=\"gemini-1.5-flash\", temperature=0.7)\n",
        "\n",
        "qa = ConversationalRetrievalChain.from_llm(\n",
        "    llm=llm,\n",
        "    retriever=vectorstore.as_retriever(),\n",
        "    memory = ConversationBufferMemory(memory_key=\"chat_history\", return_messages=True)\n",
        "  )\n",
        "qa"
      ]
    },
    {
      "cell_type": "markdown",
      "metadata": {
        "id": "oLf97WPqPbQB"
      },
      "source": [
        "### Chat Function"
      ]
    },
    {
      "cell_type": "code",
      "execution_count": 48,
      "metadata": {
        "id": "DQOmqnYMPcMy"
      },
      "outputs": [
        {
          "name": "stdout",
          "output_type": "stream",
          "text": [
            "Human: What is the main topic of this video?\n",
            "AI: The main topic of the video is vocabulary to describe feelings, particularly negative ones like sadness, anger, and nervousness.  The video also includes a segment about using AI to edit text.\n"
          ]
        }
      ],
      "source": [
        "def chat_with_video(query):\n",
        "    result = qa.invoke({\"question\": query})\n",
        "    return result['answer']\n",
        "\n",
        "# Example usage\n",
        "query = \"What is the main topic of this video?\"\n",
        "response = chat_with_video(query)\n",
        "print(f\"Human: {query}\")\n",
        "print(f\"AI: {response}\")"
      ]
    },
    {
      "cell_type": "markdown",
      "metadata": {
        "id": "E4TFZbg-P6Nm"
      },
      "source": [
        "### Create an Interactive Chat Interface"
      ]
    },
    {
      "cell_type": "code",
      "execution_count": 49,
      "metadata": {
        "id": "F9AvilyiP7Hm"
      },
      "outputs": [
        {
          "data": {
            "text/html": [
              "<h3>Chat with Video</h3>"
            ],
            "text/plain": [
              "<IPython.core.display.HTML object>"
            ]
          },
          "metadata": {},
          "output_type": "display_data"
        },
        {
          "data": {
            "application/vnd.jupyter.widget-view+json": {
              "model_id": "c81cc26a0c4d4d59941a9a0e02a995af",
              "version_major": 2,
              "version_minor": 0
            },
            "text/plain": [
              "VBox(children=(Text(value='', description='You:'), Button(description='Send', style=ButtonStyle()), Output()))"
            ]
          },
          "metadata": {},
          "output_type": "display_data"
        }
      ],
      "source": [
        "from IPython.display import display, HTML\n",
        "from ipywidgets import widgets\n",
        "\n",
        "chat_history = []\n",
        "\n",
        "def on_send_button_clicked(b):\n",
        "    query = input_box.value\n",
        "    input_box.value = \"\"\n",
        "\n",
        "    response = chat_with_video(query)\n",
        "\n",
        "    chat_history.append(f\"Human: {query}\")\n",
        "    chat_history.append(f\"AI: {response}\")\n",
        "\n",
        "    output.clear_output()\n",
        "    with output:\n",
        "        print(\"\\n\".join(chat_history))\n",
        "\n",
        "input_box = widgets.Text(description=\"You:\")\n",
        "send_button = widgets.Button(description=\"Send\")\n",
        "output = widgets.Output()\n",
        "\n",
        "send_button.on_click(on_send_button_clicked)\n",
        "\n",
        "display(HTML(\"<h3>Chat with Video</h3>\"))\n",
        "display(widgets.VBox([input_box, send_button, output]))"
      ]
    },
    {
      "cell_type": "markdown",
      "metadata": {
        "id": "8G8X0gKhQOOP"
      },
      "source": [
        "## Classwork 1\n",
        "\n",
        "### 1. Try different open source models using Together\n",
        "\n",
        "\n"
      ]
    },
    {
      "cell_type": "markdown",
      "metadata": {
        "id": "MejUuzQyQaUK"
      },
      "source": [
        "## Classwork 2\n",
        "\n",
        "### 1. Create a bot for a famous personality (Bill Gates, Mahatma Gandhi, etc) - add system instructions + image\n",
        "### 2. Create a bot for a use-case/scenario (Interview prep, a chatbot for a specific service,  etc )\n",
        "\n",
        "### 1. Create a QA engine on CSV/Audio/Video/PDF\n",
        "### 2. Experiment with different chunks, models, vector dbs."
      ]
    }
  ],
  "metadata": {
    "colab": {
      "provenance": []
    },
    "kernelspec": {
      "display_name": "Python 3",
      "name": "python3"
    },
    "language_info": {
      "codemirror_mode": {
        "name": "ipython",
        "version": 3
      },
      "file_extension": ".py",
      "mimetype": "text/x-python",
      "name": "python",
      "nbconvert_exporter": "python",
      "pygments_lexer": "ipython3",
      "version": "3.12.7"
    }
  },
  "nbformat": 4,
  "nbformat_minor": 0
}
